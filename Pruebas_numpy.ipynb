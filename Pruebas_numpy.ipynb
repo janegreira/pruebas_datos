{
  "nbformat": 4,
  "nbformat_minor": 0,
  "metadata": {
    "colab": {
      "name": "Pruebas numpy.ipynb",
      "provenance": [],
      "authorship_tag": "ABX9TyN9+PNYyYYuW1EmAbE/Hp23",
      "include_colab_link": true
    },
    "kernelspec": {
      "name": "python3",
      "display_name": "Python 3"
    },
    "language_info": {
      "name": "python"
    }
  },
  "cells": [
    {
      "cell_type": "markdown",
      "metadata": {
        "id": "view-in-github",
        "colab_type": "text"
      },
      "source": [
        "<a href=\"https://colab.research.google.com/github/janegreira/pruebas_datos/blob/main/Pruebas_numpy.ipynb\" target=\"_parent\"><img src=\"https://colab.research.google.com/assets/colab-badge.svg\" alt=\"Open In Colab\"/></a>"
      ]
    },
    {
      "cell_type": "code",
      "metadata": {
        "id": "GpjZZCVipvsD"
      },
      "source": [
        "import numpy as np"
      ],
      "execution_count": 1,
      "outputs": []
    },
    {
      "cell_type": "code",
      "metadata": {
        "colab": {
          "base_uri": "https://localhost:8080/"
        },
        "id": "TUyFuU5huA5z",
        "outputId": "92027c8c-55e5-4cf1-fcff-35c2965b112d"
      },
      "source": [
        "np.array([1, 2, 3, 4], dtype='float32')"
      ],
      "execution_count": 2,
      "outputs": [
        {
          "output_type": "execute_result",
          "data": {
            "text/plain": [
              "array([1., 2., 3., 4.], dtype=float32)"
            ]
          },
          "metadata": {},
          "execution_count": 2
        }
      ]
    },
    {
      "cell_type": "code",
      "metadata": {
        "colab": {
          "base_uri": "https://localhost:8080/"
        },
        "id": "MOVkMr8MuGlg",
        "outputId": "58ffd12f-3026-421d-a4e4-5f39d5ae942b"
      },
      "source": [
        "np.array([range(i, i + 3) for i in [2, 4, 6]])"
      ],
      "execution_count": 6,
      "outputs": [
        {
          "output_type": "execute_result",
          "data": {
            "text/plain": [
              "array([[2, 3, 4],\n",
              "       [4, 5, 6],\n",
              "       [6, 7, 8]])"
            ]
          },
          "metadata": {},
          "execution_count": 6
        }
      ]
    },
    {
      "cell_type": "code",
      "metadata": {
        "colab": {
          "base_uri": "https://localhost:8080/"
        },
        "id": "yqTeS4DDuQJ6",
        "outputId": "2e6d6ac8-de5a-494e-cdf7-dbfaefb1b999"
      },
      "source": [
        "data = np.random.random((2, 2))\n",
        "data"
      ],
      "execution_count": 24,
      "outputs": [
        {
          "output_type": "execute_result",
          "data": {
            "text/plain": [
              "array([[0.4553607 , 0.851657  ],\n",
              "       [0.90840262, 0.16617637]])"
            ]
          },
          "metadata": {},
          "execution_count": 24
        }
      ]
    },
    {
      "cell_type": "code",
      "metadata": {
        "colab": {
          "base_uri": "https://localhost:8080/"
        },
        "id": "kA4FsS6Subj4",
        "outputId": "02c337fd-28e0-410c-bbdc-3f6295f4bf04"
      },
      "source": [
        "data +2 # A cada elemento le sumo 2"
      ],
      "execution_count": 25,
      "outputs": [
        {
          "output_type": "execute_result",
          "data": {
            "text/plain": [
              "array([[2.4553607 , 2.851657  ],\n",
              "       [2.90840262, 2.16617637]])"
            ]
          },
          "metadata": {},
          "execution_count": 25
        }
      ]
    },
    {
      "cell_type": "code",
      "metadata": {
        "colab": {
          "base_uri": "https://localhost:8080/"
        },
        "id": "E7rvnvVwvTRy",
        "outputId": "390ff356-3822-4f59-e36d-5d50611b8a16"
      },
      "source": [
        "data*data # Se multiplica cada elemento por sí mismo"
      ],
      "execution_count": 26,
      "outputs": [
        {
          "output_type": "execute_result",
          "data": {
            "text/plain": [
              "array([[0.20735337, 0.72531965],\n",
              "       [0.82519533, 0.02761459]])"
            ]
          },
          "metadata": {},
          "execution_count": 26
        }
      ]
    },
    {
      "cell_type": "code",
      "metadata": {
        "colab": {
          "base_uri": "https://localhost:8080/"
        },
        "id": "p1_o5Q5ivWCz",
        "outputId": "3c8e2d53-b7ce-4041-c5dd-2e43f6c5eb52"
      },
      "source": [
        "data@data # Producto matricial"
      ],
      "execution_count": 27,
      "outputs": [
        {
          "output_type": "execute_result",
          "data": {
            "text/plain": [
              "array([[0.98100083, 0.5293364 ],\n",
              "       [0.56460591, 0.80126204]])"
            ]
          },
          "metadata": {},
          "execution_count": 27
        }
      ]
    },
    {
      "cell_type": "code",
      "metadata": {
        "id": "E6jfBOTBvX9L"
      },
      "source": [
        ""
      ],
      "execution_count": null,
      "outputs": []
    }
  ]
}